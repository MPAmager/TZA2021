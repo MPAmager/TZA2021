{
 "cells": [
  {
   "cell_type": "markdown",
   "metadata": {},
   "source": [
    "# Get data DMI data from API"
   ]
  },
  {
   "cell_type": "code",
   "execution_count": null,
   "metadata": {},
   "outputs": [],
   "source": [
    "import json\n",
    "import requests\n",
    "import pandas as pd\n",
    "from datetime import datetime\n",
    "\n",
    "APIKEY = ''\n",
    "PARAMS = ['wind_dir_past1h', 'wind_speed_past1h', 'precip_past1h', 'humidity_past1h']\n",
    "\n",
    "for PARAM in PARAMS:\n",
    "    START_DATE = datetime.strptime('2018/11/05', '%Y/%m/%d').strftime('%Y-%m-%dT%H:%M:%SZ')\n",
    "    END_DATE = datetime.strptime('2020/03/12', '%Y/%m/%d').strftime('%Y-%m-%dT%H:%M:%SZ')\n",
    "\n",
    "    url = 'https://dmigw.govcloud.dk/v2/metObs/collections/observation/items'\n",
    "    payload = {\n",
    "        'api-key': APIKEY,\n",
    "        'limit': 100000,\n",
    "        'stationId': '06181',\n",
    "        'datetime': f'{START_DATE}/{END_DATE}',\n",
    "        'parameterId': PARAM,\n",
    "    }\n",
    "    r = requests.get(url, params=payload)\n",
    "    response_dct = r.json()\n",
    "    print(len(response_dct['features']))\n",
    "\n",
    "    with open(f'{PARAM}.json', 'w') as f:\n",
    "        json.dump(response_dct, f)"
   ]
  },
  {
   "cell_type": "markdown",
   "metadata": {},
   "source": [
    "# Upload to a dataframe"
   ]
  },
  {
   "cell_type": "code",
   "execution_count": null,
   "metadata": {},
   "outputs": [],
   "source": [
    "big_df = pd.DataFrame()\n",
    "for param in PARAMS:\n",
    "    with open(f'{param}.json', 'r') as f:\n",
    "        dct = json.load(f)\n",
    "    if not dct['features']:\n",
    "        continue\n",
    "    df = pd.json_normalize(dct['features'])\n",
    "    df['geometry.coordinates'] = df['geometry.coordinates'].apply(lambda lst: [str(x) for x in lst]).str.join(',')\n",
    "    df.to_csv(f'{param}.csv', index=False)\n",
    "    big_df = big_df.append(df)"
   ]
  },
  {
   "cell_type": "markdown",
   "metadata": {},
   "source": [
    "# Visualize"
   ]
  },
  {
   "cell_type": "code",
   "execution_count": null,
   "metadata": {},
   "outputs": [],
   "source": [
    "import matplotlib.pyplot as plt\n",
    "plt.rcParams['figure.facecolor'] = 'white'\n",
    "big_df['properties.observed'] = pd.to_datetime(df['properties.observed'])\n",
    "\n",
    "fig = plt.figure(figsize=(10, 7))\n",
    "for i, (name, g) in enumerate(big_df.groupby('properties.parameterId')):  \n",
    "    ax = fig.add_subplot(2,2,i+1)\n",
    "    g.set_index('properties.observed').groupby(pd.Grouper(freq='W'))['properties.value'].mean().dropna().plot(ax=ax)\n",
    "    ax.set_xlabel(name)\n",
    "plt.tight_layout()\n",
    "plt.savefig('plots.png')"
   ]
  },
  {
   "cell_type": "code",
   "execution_count": null,
   "metadata": {},
   "outputs": [],
   "source": [
    "for i, (name, g) in enumerate(big_df.groupby('properties.parameterId')):  \n",
    "    print(name, g['properties.observed'].min())"
   ]
  },
  {
   "cell_type": "code",
   "execution_count": null,
   "metadata": {},
   "outputs": [],
   "source": [
    "df = pd.DataFrame({'local_time': ['2019-06-18 23:07:52', '2019-06-18 23:07:53'], 'UFP': [27800, 27100]})\n",
    "df.local_time = pd.to_datetime(df.local_time).dt.floor('h').dt.strftime('%Y-%m-%dT%H:%M:%SZ')\n",
    "df"
   ]
  },
  {
   "cell_type": "code",
   "execution_count": null,
   "metadata": {},
   "outputs": [],
   "source": []
  }
 ],
 "metadata": {
  "kernelspec": {
   "display_name": "Python 3",
   "language": "python",
   "name": "python3"
  },
  "language_info": {
   "codemirror_mode": {
    "name": "ipython",
    "version": 3
   },
   "file_extension": ".py",
   "mimetype": "text/x-python",
   "name": "python",
   "nbconvert_exporter": "python",
   "pygments_lexer": "ipython3",
   "version": "3.8.5"
  }
 },
 "nbformat": 4,
 "nbformat_minor": 4
}
