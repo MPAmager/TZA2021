{
 "cells": [
  {
   "cell_type": "markdown",
   "metadata": {},
   "source": [
    "This is part of the regression analysis we did. I left with outputs and everything for inspiration."
   ]
  },
  {
   "cell_type": "markdown",
   "metadata": {},
   "source": [
    "# Reading data"
   ]
  },
  {
   "cell_type": "code",
   "execution_count": 1,
   "metadata": {},
   "outputs": [
    {
     "data": {
      "text/html": [
       "<div>\n",
       "<style scoped>\n",
       "    .dataframe tbody tr th:only-of-type {\n",
       "        vertical-align: middle;\n",
       "    }\n",
       "\n",
       "    .dataframe tbody tr th {\n",
       "        vertical-align: top;\n",
       "    }\n",
       "\n",
       "    .dataframe thead th {\n",
       "        text-align: right;\n",
       "    }\n",
       "</style>\n",
       "<table border=\"1\" class=\"dataframe\">\n",
       "  <thead>\n",
       "    <tr style=\"text-align: right;\">\n",
       "      <th></th>\n",
       "      <th>ROAD_FID</th>\n",
       "      <th>local_time</th>\n",
       "      <th>Data_NO2</th>\n",
       "      <th>Mixed_NO2</th>\n",
       "      <th>UFP</th>\n",
       "      <th>Mixed_UFP</th>\n",
       "      <th>Data_BC</th>\n",
       "      <th>Mixed_BC</th>\n",
       "    </tr>\n",
       "  </thead>\n",
       "  <tbody>\n",
       "    <tr>\n",
       "      <th>0</th>\n",
       "      <td>36</td>\n",
       "      <td>2019-06-25 10:00:00</td>\n",
       "      <td>NaN</td>\n",
       "      <td>16.0</td>\n",
       "      <td>13300.0</td>\n",
       "      <td>9850.0</td>\n",
       "      <td>NaN</td>\n",
       "      <td>0.9</td>\n",
       "    </tr>\n",
       "    <tr>\n",
       "      <th>1</th>\n",
       "      <td>36</td>\n",
       "      <td>2020-02-11 08:00:00</td>\n",
       "      <td>13.0</td>\n",
       "      <td>16.0</td>\n",
       "      <td>NaN</td>\n",
       "      <td>9850.0</td>\n",
       "      <td>NaN</td>\n",
       "      <td>0.9</td>\n",
       "    </tr>\n",
       "    <tr>\n",
       "      <th>2</th>\n",
       "      <td>36</td>\n",
       "      <td>2020-02-18 08:00:00</td>\n",
       "      <td>11.0</td>\n",
       "      <td>16.0</td>\n",
       "      <td>NaN</td>\n",
       "      <td>9850.0</td>\n",
       "      <td>NaN</td>\n",
       "      <td>0.9</td>\n",
       "    </tr>\n",
       "    <tr>\n",
       "      <th>3</th>\n",
       "      <td>36</td>\n",
       "      <td>2019-11-09 08:00:00</td>\n",
       "      <td>13.0</td>\n",
       "      <td>16.0</td>\n",
       "      <td>8120.0</td>\n",
       "      <td>9850.0</td>\n",
       "      <td>0.7</td>\n",
       "      <td>0.9</td>\n",
       "    </tr>\n",
       "    <tr>\n",
       "      <th>4</th>\n",
       "      <td>36</td>\n",
       "      <td>2019-11-01 07:00:00</td>\n",
       "      <td>15.0</td>\n",
       "      <td>16.0</td>\n",
       "      <td>33400.0</td>\n",
       "      <td>9850.0</td>\n",
       "      <td>1.2</td>\n",
       "      <td>0.9</td>\n",
       "    </tr>\n",
       "  </tbody>\n",
       "</table>\n",
       "</div>"
      ],
      "text/plain": [
       "   ROAD_FID           local_time  Data_NO2  Mixed_NO2      UFP  Mixed_UFP  \\\n",
       "0        36  2019-06-25 10:00:00       NaN       16.0  13300.0     9850.0   \n",
       "1        36  2020-02-11 08:00:00      13.0       16.0      NaN     9850.0   \n",
       "2        36  2020-02-18 08:00:00      11.0       16.0      NaN     9850.0   \n",
       "3        36  2019-11-09 08:00:00      13.0       16.0   8120.0     9850.0   \n",
       "4        36  2019-11-01 07:00:00      15.0       16.0  33400.0     9850.0   \n",
       "\n",
       "   Data_BC  Mixed_BC  \n",
       "0      NaN       0.9  \n",
       "1      NaN       0.9  \n",
       "2      NaN       0.9  \n",
       "3      0.7       0.9  \n",
       "4      1.2       0.9  "
      ]
     },
     "execution_count": 1,
     "metadata": {},
     "output_type": "execute_result"
    }
   ],
   "source": [
    "import pandas as pd\n",
    "\n",
    "pollution_data = pd.read_csv('amagerdata.csv')\n",
    "\n",
    "pollution_data.head()"
   ]
  },
  {
   "cell_type": "code",
   "execution_count": 2,
   "metadata": {},
   "outputs": [
    {
     "data": {
      "text/html": [
       "<div>\n",
       "<style scoped>\n",
       "    .dataframe tbody tr th:only-of-type {\n",
       "        vertical-align: middle;\n",
       "    }\n",
       "\n",
       "    .dataframe tbody tr th {\n",
       "        vertical-align: top;\n",
       "    }\n",
       "\n",
       "    .dataframe thead th {\n",
       "        text-align: right;\n",
       "    }\n",
       "</style>\n",
       "<table border=\"1\" class=\"dataframe\">\n",
       "  <thead>\n",
       "    <tr style=\"text-align: right;\">\n",
       "      <th></th>\n",
       "      <th>id</th>\n",
       "      <th>type</th>\n",
       "      <th>geometry.coordinates</th>\n",
       "      <th>geometry.type</th>\n",
       "      <th>properties.created</th>\n",
       "      <th>properties.observed</th>\n",
       "      <th>properties.parameterId</th>\n",
       "      <th>properties.stationId</th>\n",
       "      <th>properties.value</th>\n",
       "    </tr>\n",
       "  </thead>\n",
       "  <tbody>\n",
       "    <tr>\n",
       "      <th>0</th>\n",
       "      <td>df1c67e7-214d-894a-39de-caac91ae7f44</td>\n",
       "      <td>Feature</td>\n",
       "      <td>12.562,55.716</td>\n",
       "      <td>Point</td>\n",
       "      <td>2021-01-19T23:23:25.232092Z</td>\n",
       "      <td>2020-03-12T00:00:00Z</td>\n",
       "      <td>wind_speed_past1h</td>\n",
       "      <td>6184</td>\n",
       "      <td>3.1</td>\n",
       "    </tr>\n",
       "    <tr>\n",
       "      <th>1</th>\n",
       "      <td>76aa72c4-3627-816e-7b0e-403a0ec7e22b</td>\n",
       "      <td>Feature</td>\n",
       "      <td>12.562,55.716</td>\n",
       "      <td>Point</td>\n",
       "      <td>2021-01-19T23:23:25.172549Z</td>\n",
       "      <td>2020-03-11T23:00:00Z</td>\n",
       "      <td>wind_speed_past1h</td>\n",
       "      <td>6184</td>\n",
       "      <td>2.9</td>\n",
       "    </tr>\n",
       "    <tr>\n",
       "      <th>2</th>\n",
       "      <td>8c7b3f27-1268-4828-3e6a-9ce0e8373854</td>\n",
       "      <td>Feature</td>\n",
       "      <td>12.562,55.716</td>\n",
       "      <td>Point</td>\n",
       "      <td>2021-01-19T23:23:25.042567Z</td>\n",
       "      <td>2020-03-11T22:00:00Z</td>\n",
       "      <td>wind_speed_past1h</td>\n",
       "      <td>6184</td>\n",
       "      <td>2.9</td>\n",
       "    </tr>\n",
       "    <tr>\n",
       "      <th>3</th>\n",
       "      <td>61831e57-3ae9-a456-5928-206e81362f06</td>\n",
       "      <td>Feature</td>\n",
       "      <td>12.562,55.716</td>\n",
       "      <td>Point</td>\n",
       "      <td>2021-01-19T23:23:24.861411Z</td>\n",
       "      <td>2020-03-11T21:00:00Z</td>\n",
       "      <td>wind_speed_past1h</td>\n",
       "      <td>6184</td>\n",
       "      <td>2.9</td>\n",
       "    </tr>\n",
       "    <tr>\n",
       "      <th>4</th>\n",
       "      <td>8b05ab97-88b4-ad8a-c95e-bec638039af6</td>\n",
       "      <td>Feature</td>\n",
       "      <td>12.562,55.716</td>\n",
       "      <td>Point</td>\n",
       "      <td>2021-01-19T23:23:24.670886Z</td>\n",
       "      <td>2020-03-11T20:00:00Z</td>\n",
       "      <td>wind_speed_past1h</td>\n",
       "      <td>6184</td>\n",
       "      <td>3.0</td>\n",
       "    </tr>\n",
       "  </tbody>\n",
       "</table>\n",
       "</div>"
      ],
      "text/plain": [
       "                                     id     type geometry.coordinates  \\\n",
       "0  df1c67e7-214d-894a-39de-caac91ae7f44  Feature        12.562,55.716   \n",
       "1  76aa72c4-3627-816e-7b0e-403a0ec7e22b  Feature        12.562,55.716   \n",
       "2  8c7b3f27-1268-4828-3e6a-9ce0e8373854  Feature        12.562,55.716   \n",
       "3  61831e57-3ae9-a456-5928-206e81362f06  Feature        12.562,55.716   \n",
       "4  8b05ab97-88b4-ad8a-c95e-bec638039af6  Feature        12.562,55.716   \n",
       "\n",
       "  geometry.type           properties.created   properties.observed  \\\n",
       "0         Point  2021-01-19T23:23:25.232092Z  2020-03-12T00:00:00Z   \n",
       "1         Point  2021-01-19T23:23:25.172549Z  2020-03-11T23:00:00Z   \n",
       "2         Point  2021-01-19T23:23:25.042567Z  2020-03-11T22:00:00Z   \n",
       "3         Point  2021-01-19T23:23:24.861411Z  2020-03-11T21:00:00Z   \n",
       "4         Point  2021-01-19T23:23:24.670886Z  2020-03-11T20:00:00Z   \n",
       "\n",
       "  properties.parameterId  properties.stationId  properties.value  \n",
       "0      wind_speed_past1h                  6184               3.1  \n",
       "1      wind_speed_past1h                  6184               2.9  \n",
       "2      wind_speed_past1h                  6184               2.9  \n",
       "3      wind_speed_past1h                  6184               2.9  \n",
       "4      wind_speed_past1h                  6184               3.0  "
      ]
     },
     "execution_count": 2,
     "metadata": {},
     "output_type": "execute_result"
    }
   ],
   "source": [
    "windspeed_data = pd.read_csv('wind_speed_past1h.csv')\n",
    "\n",
    "windspeed_data.head()"
   ]
  },
  {
   "cell_type": "markdown",
   "metadata": {},
   "source": [
    "# Initial plot\n",
    "Here, we simply look at daily averages of UFP data across all measurements and compare them with the wind speed data in a line graph."
   ]
  },
  {
   "cell_type": "code",
   "execution_count": 3,
   "metadata": {},
   "outputs": [
    {
     "data": {
      "text/plain": [
       "<AxesSubplot:label='232dc690-8e16-4999-87cf-d6d6e3724ed0', xlabel='local_time', ylabel='UFP'>"
      ]
     },
     "execution_count": 3,
     "metadata": {},
     "output_type": "execute_result"
    },
    {
     "data": {
      "image/png": "[encoded data removed]",
      "text/plain": [
       "<Figure size 720x504 with 2 Axes>"
      ]
     },
     "metadata": {},
     "output_type": "display_data"
    }
   ],
   "source": [
    "import matplotlib.pyplot as plt\n",
    "import seaborn as sns\n",
    "\n",
    "sns.set_style(\"dark\")\n",
    "\n",
    "fig, ax1 = plt.subplots(figsize=(10,7))\n",
    "\n",
    "windspeed_data['properties.observed'] = pd.to_datetime(windspeed_data['properties.observed'])\n",
    "windspeed_data['properties.observed'] = windspeed_data['properties.observed'].dt.tz_convert('UTC').dt.tz_convert('Europe/Copenhagen')\n",
    "windspeed_data.set_index('properties.observed').groupby(pd.Grouper(freq='W'))['properties.value'].mean().dropna().plot(\n",
    "    ax=ax1,\n",
    "    color='red',\n",
    "    ylabel='wind_speed_past1h'\n",
    ")\n",
    "\n",
    "ax2 = ax1.twinx()\n",
    "\n",
    "pollution_data['local_time'] = pd.to_datetime(pollution_data['local_time'])\n",
    "pollution_data['local_time'] = pollution_data['local_time'].dt.tz_localize('UTC').dt.tz_convert('Europe/Copenhagen')\n",
    "pollution_data.set_index('local_time').groupby(pd.Grouper(freq='W'))['UFP'].mean().dropna().plot(\n",
    "    ax=ax2,\n",
    "    color='green',\n",
    "    ylabel='UFP'\n",
    ")"
   ]
  },
  {
   "cell_type": "markdown",
   "metadata": {},
   "source": [
    "# Regression analysis: Windspeed as a predictor for UFP\n",
    "First, a scatter plot to see what the data looks like."
   ]
  },
  {
   "cell_type": "code",
   "execution_count": 4,
   "metadata": {},
   "outputs": [
    {
     "data": {
      "text/plain": [
       "<AxesSubplot:xlabel='X', ylabel='Y'>"
      ]
     },
     "execution_count": 4,
     "metadata": {},
     "output_type": "execute_result"
    },
    {
     "data": {
      "image/png": "[encoded data removed]",
      "text/plain": [
       "<Figure size 432x288 with 1 Axes>"
      ]
     },
     "metadata": {},
     "output_type": "display_data"
    }
   ],
   "source": [
    "X = windspeed_data.set_index('properties.observed')['properties.value'].sort_index()\n",
    "Y = pollution_data.set_index('local_time')['UFP'].sort_index()\n",
    "\n",
    "X = X[(X.index > Y.index.min()) & (X.index < Y.index.max())]\n",
    "\n",
    "X = X.groupby(X.index.date).mean()\n",
    "Y = Y.groupby(Y.index.date).mean()\n",
    "\n",
    "corr_df = pd.DataFrame({'X': X, 'Y': Y}).dropna()\n",
    "\n",
    "sns.set_style('whitegrid')\n",
    "corr_df.plot(x='X', y='Y', kind='scatter')"
   ]
  },
  {
   "cell_type": "markdown",
   "metadata": {},
   "source": [
    "We find the linear correlation between wind speed and UFP"
   ]
  },
  {
   "cell_type": "code",
   "execution_count": 5,
   "metadata": {},
   "outputs": [
    {
     "data": {
      "text/html": [
       "<div>\n",
       "<style scoped>\n",
       "    .dataframe tbody tr th:only-of-type {\n",
       "        vertical-align: middle;\n",
       "    }\n",
       "\n",
       "    .dataframe tbody tr th {\n",
       "        vertical-align: top;\n",
       "    }\n",
       "\n",
       "    .dataframe thead th {\n",
       "        text-align: right;\n",
       "    }\n",
       "</style>\n",
       "<table border=\"1\" class=\"dataframe\">\n",
       "  <thead>\n",
       "    <tr style=\"text-align: right;\">\n",
       "      <th></th>\n",
       "      <th>X</th>\n",
       "      <th>Y</th>\n",
       "    </tr>\n",
       "  </thead>\n",
       "  <tbody>\n",
       "    <tr>\n",
       "      <th>X</th>\n",
       "      <td>1.000000</td>\n",
       "      <td>-0.221939</td>\n",
       "    </tr>\n",
       "    <tr>\n",
       "      <th>Y</th>\n",
       "      <td>-0.221939</td>\n",
       "      <td>1.000000</td>\n",
       "    </tr>\n",
       "  </tbody>\n",
       "</table>\n",
       "</div>"
      ],
      "text/plain": [
       "          X         Y\n",
       "X  1.000000 -0.221939\n",
       "Y -0.221939  1.000000"
      ]
     },
     "execution_count": 5,
     "metadata": {},
     "output_type": "execute_result"
    }
   ],
   "source": [
    "corr_df.corr(method='pearson')"
   ]
  },
  {
   "cell_type": "markdown",
   "metadata": {},
   "source": [
    "This shows a fairly strong negative correlation. Thus, more wind leads to less air pollution (UFP)\n",
    "\n",
    "We then calculate the the p-value (how likely is it that our data could have occurred if there were no relationship between our variables of interest)."
   ]
  },
  {
   "cell_type": "code",
   "execution_count": 6,
   "metadata": {},
   "outputs": [
    {
     "data": {
      "text/html": [
       "<div>\n",
       "<style scoped>\n",
       "    .dataframe tbody tr th:only-of-type {\n",
       "        vertical-align: middle;\n",
       "    }\n",
       "\n",
       "    .dataframe tbody tr th {\n",
       "        vertical-align: top;\n",
       "    }\n",
       "\n",
       "    .dataframe thead th {\n",
       "        text-align: right;\n",
       "    }\n",
       "</style>\n",
       "<table border=\"1\" class=\"dataframe\">\n",
       "  <thead>\n",
       "    <tr style=\"text-align: right;\">\n",
       "      <th></th>\n",
       "      <th>X</th>\n",
       "      <th>Y</th>\n",
       "    </tr>\n",
       "  </thead>\n",
       "  <tbody>\n",
       "    <tr>\n",
       "      <th>X</th>\n",
       "      <td>1.000000</td>\n",
       "      <td>0.088326</td>\n",
       "    </tr>\n",
       "    <tr>\n",
       "      <th>Y</th>\n",
       "      <td>0.088326</td>\n",
       "      <td>1.000000</td>\n",
       "    </tr>\n",
       "  </tbody>\n",
       "</table>\n",
       "</div>"
      ],
      "text/plain": [
       "          X         Y\n",
       "X  1.000000  0.088326\n",
       "Y  0.088326  1.000000"
      ]
     },
     "execution_count": 6,
     "metadata": {},
     "output_type": "execute_result"
    }
   ],
   "source": [
    "from scipy.stats import pearsonr\n",
    "\n",
    "def pearsonr_pval(x,y):\n",
    "    return pearsonr(x,y)[1]\n",
    "\n",
    "corr_df.corr(method=pearsonr_pval)"
   ]
  },
  {
   "cell_type": "markdown",
   "metadata": {},
   "source": [
    "p < 0.05, looks good."
   ]
  },
  {
   "cell_type": "code",
   "execution_count": 7,
   "metadata": {},
   "outputs": [
    {
     "name": "stdout",
     "output_type": "stream",
     "text": [
      "Intercept    32486.046726\n",
      "X            -3274.156943\n",
      "dtype: float64\n"
     ]
    }
   ],
   "source": [
    "import statsmodels.formula.api as sm\n",
    "\n",
    "result = sm.ols(formula=\"Y ~ X\", data=corr_df).fit()\n",
    "print(result.params)"
   ]
  },
  {
   "cell_type": "code",
   "execution_count": 8,
   "metadata": {},
   "outputs": [
    {
     "name": "stdout",
     "output_type": "stream",
     "text": [
      "                            OLS Regression Results                            \n",
      "==============================================================================\n",
      "Dep. Variable:                      Y   R-squared:                       0.049\n",
      "Model:                            OLS   Adj. R-squared:                  0.033\n",
      "Method:                 Least Squares   F-statistic:                     3.005\n",
      "Date:                Wed, 02 Jun 2021   Prob (F-statistic):             0.0883\n",
      "Time:                        15:38:42   Log-Likelihood:                -662.98\n",
      "No. Observations:                  60   AIC:                             1330.\n",
      "Df Residuals:                      58   BIC:                             1334.\n",
      "Df Model:                           1                                         \n",
      "Covariance Type:            nonrobust                                         \n",
      "==============================================================================\n",
      "                 coef    std err          t      P>|t|      [0.025      0.975]\n",
      "------------------------------------------------------------------------------\n",
      "Intercept   3.249e+04   7068.089      4.596      0.000    1.83e+04    4.66e+04\n",
      "X          -3274.1569   1888.787     -1.733      0.088   -7054.976     506.662\n",
      "==============================================================================\n",
      "Omnibus:                       81.417   Durbin-Watson:                   1.586\n",
      "Prob(Omnibus):                  0.000   Jarque-Bera (JB):             1128.821\n",
      "Skew:                           3.794   Prob(JB):                    7.58e-246\n",
      "Kurtosis:                      22.849   Cond. No.                         14.1\n",
      "==============================================================================\n",
      "\n",
      "Notes:\n",
      "[1] Standard Errors assume that the covariance matrix of the errors is correctly specified.\n"
     ]
    }
   ],
   "source": [
    "print(result.summary())"
   ]
  },
  {
   "cell_type": "markdown",
   "metadata": {},
   "source": [
    "# Looking at wind direction"
   ]
  },
  {
   "cell_type": "code",
   "execution_count": 9,
   "metadata": {},
   "outputs": [
    {
     "data": {
      "text/html": [
       "<div>\n",
       "<style scoped>\n",
       "    .dataframe tbody tr th:only-of-type {\n",
       "        vertical-align: middle;\n",
       "    }\n",
       "\n",
       "    .dataframe tbody tr th {\n",
       "        vertical-align: top;\n",
       "    }\n",
       "\n",
       "    .dataframe thead th {\n",
       "        text-align: right;\n",
       "    }\n",
       "</style>\n",
       "<table border=\"1\" class=\"dataframe\">\n",
       "  <thead>\n",
       "    <tr style=\"text-align: right;\">\n",
       "      <th></th>\n",
       "      <th>id</th>\n",
       "      <th>type</th>\n",
       "      <th>geometry.coordinates</th>\n",
       "      <th>geometry.type</th>\n",
       "      <th>properties.created</th>\n",
       "      <th>properties.observed</th>\n",
       "      <th>properties.parameterId</th>\n",
       "      <th>properties.stationId</th>\n",
       "      <th>properties.value</th>\n",
       "    </tr>\n",
       "  </thead>\n",
       "  <tbody>\n",
       "    <tr>\n",
       "      <th>0</th>\n",
       "      <td>bb2e0d8f-d61f-464a-caf7-3ce721ca6f02</td>\n",
       "      <td>Feature</td>\n",
       "      <td>12.562,55.716</td>\n",
       "      <td>Point</td>\n",
       "      <td>2021-01-19T23:23:25.231878Z</td>\n",
       "      <td>2020-03-12 00:00:00+00:00</td>\n",
       "      <td>wind_dir_past1h</td>\n",
       "      <td>6184</td>\n",
       "      <td>195.0</td>\n",
       "    </tr>\n",
       "    <tr>\n",
       "      <th>1</th>\n",
       "      <td>6156f933-27d0-5801-1c91-b7e0f65079ab</td>\n",
       "      <td>Feature</td>\n",
       "      <td>12.562,55.716</td>\n",
       "      <td>Point</td>\n",
       "      <td>2021-01-19T23:23:25.172349Z</td>\n",
       "      <td>2020-03-11 23:00:00+00:00</td>\n",
       "      <td>wind_dir_past1h</td>\n",
       "      <td>6184</td>\n",
       "      <td>185.0</td>\n",
       "    </tr>\n",
       "    <tr>\n",
       "      <th>2</th>\n",
       "      <td>0601ff12-91c0-4c0a-4354-0ac7b0e5a5f6</td>\n",
       "      <td>Feature</td>\n",
       "      <td>12.562,55.716</td>\n",
       "      <td>Point</td>\n",
       "      <td>2021-01-19T23:23:25.042351Z</td>\n",
       "      <td>2020-03-11 22:00:00+00:00</td>\n",
       "      <td>wind_dir_past1h</td>\n",
       "      <td>6184</td>\n",
       "      <td>188.0</td>\n",
       "    </tr>\n",
       "    <tr>\n",
       "      <th>3</th>\n",
       "      <td>c8650f7f-0644-e474-4322-f69c12dad030</td>\n",
       "      <td>Feature</td>\n",
       "      <td>12.562,55.716</td>\n",
       "      <td>Point</td>\n",
       "      <td>2021-01-19T23:23:24.861206Z</td>\n",
       "      <td>2020-03-11 21:00:00+00:00</td>\n",
       "      <td>wind_dir_past1h</td>\n",
       "      <td>6184</td>\n",
       "      <td>193.0</td>\n",
       "    </tr>\n",
       "    <tr>\n",
       "      <th>4</th>\n",
       "      <td>8c3013f1-a4db-04e5-44fc-e91e1e9eb26d</td>\n",
       "      <td>Feature</td>\n",
       "      <td>12.562,55.716</td>\n",
       "      <td>Point</td>\n",
       "      <td>2021-01-19T23:23:24.670683Z</td>\n",
       "      <td>2020-03-11 20:00:00+00:00</td>\n",
       "      <td>wind_dir_past1h</td>\n",
       "      <td>6184</td>\n",
       "      <td>200.0</td>\n",
       "    </tr>\n",
       "  </tbody>\n",
       "</table>\n",
       "</div>"
      ],
      "text/plain": [
       "                                     id     type geometry.coordinates  \\\n",
       "0  bb2e0d8f-d61f-464a-caf7-3ce721ca6f02  Feature        12.562,55.716   \n",
       "1  6156f933-27d0-5801-1c91-b7e0f65079ab  Feature        12.562,55.716   \n",
       "2  0601ff12-91c0-4c0a-4354-0ac7b0e5a5f6  Feature        12.562,55.716   \n",
       "3  c8650f7f-0644-e474-4322-f69c12dad030  Feature        12.562,55.716   \n",
       "4  8c3013f1-a4db-04e5-44fc-e91e1e9eb26d  Feature        12.562,55.716   \n",
       "\n",
       "  geometry.type           properties.created       properties.observed  \\\n",
       "0         Point  2021-01-19T23:23:25.231878Z 2020-03-12 00:00:00+00:00   \n",
       "1         Point  2021-01-19T23:23:25.172349Z 2020-03-11 23:00:00+00:00   \n",
       "2         Point  2021-01-19T23:23:25.042351Z 2020-03-11 22:00:00+00:00   \n",
       "3         Point  2021-01-19T23:23:24.861206Z 2020-03-11 21:00:00+00:00   \n",
       "4         Point  2021-01-19T23:23:24.670683Z 2020-03-11 20:00:00+00:00   \n",
       "\n",
       "  properties.parameterId  properties.stationId  properties.value  \n",
       "0        wind_dir_past1h                  6184             195.0  \n",
       "1        wind_dir_past1h                  6184             185.0  \n",
       "2        wind_dir_past1h                  6184             188.0  \n",
       "3        wind_dir_past1h                  6184             193.0  \n",
       "4        wind_dir_past1h                  6184             200.0  "
      ]
     },
     "execution_count": 9,
     "metadata": {},
     "output_type": "execute_result"
    }
   ],
   "source": [
    "winddir_data = pd.read_csv('wind_dir_past1h.csv')\n",
    "winddir_data['properties.observed'] = pd.to_datetime(winddir_data['properties.observed'])\n",
    "\n",
    "winddir_data.head()"
   ]
  },
  {
   "cell_type": "code",
   "execution_count": 10,
   "metadata": {},
   "outputs": [],
   "source": [
    "from collections import ChainMap\n",
    "\n",
    "ds = [\n",
    "    {0: 'calm'},\n",
    "    {d:'N' for d in range(315, 361)},\n",
    "    {d:'N' for d in range(1, 45)},\n",
    "    {d:'E' for d in range(45, 135)},\n",
    "    {d:'S' for d in range(135, 225)},\n",
    "    {d:'W' for d in range(225, 315)},\n",
    "]\n",
    "\n",
    "deg_dct = dict(ChainMap(*ds))\n",
    "\n",
    "windspeed_data['dir'] = winddir_data['properties.value']\n",
    "windspeed_data['dir_cardinal'] = windspeed_data['dir'].apply(lambda deg: deg_dct[deg])"
   ]
  },
  {
   "cell_type": "code",
   "execution_count": 11,
   "metadata": {},
   "outputs": [
    {
     "name": "stdout",
     "output_type": "stream",
     "text": [
      "\u001b[1mDirection: E\u001b[0m\n",
      "*Coef*\n",
      "          X         Y\n",
      "X  1.000000 -0.050314\n",
      "Y -0.050314  1.000000 \n",
      "\n",
      "*P value*\n",
      "          X         Y\n",
      "X  1.000000  0.795484\n",
      "Y  0.795484  1.000000 \n",
      "\n",
      "\n",
      "\u001b[1mDirection: N\u001b[0m\n",
      "*Coef*\n",
      "          X         Y\n",
      "X  1.000000  0.871119\n",
      "Y  0.871119  1.000000 \n",
      "\n",
      "*P value*\n",
      "         X        Y\n",
      "X  1.00000  0.00103\n",
      "Y  0.00103  1.00000 \n",
      "\n",
      "\n",
      "\u001b[1mDirection: S\u001b[0m\n",
      "*Coef*\n",
      "          X         Y\n",
      "X  1.000000 -0.195967\n",
      "Y -0.195967  1.000000 \n",
      "\n",
      "*P value*\n",
      "          X         Y\n",
      "X  1.000000  0.186786\n",
      "Y  0.186786  1.000000 \n",
      "\n",
      "\n",
      "\u001b[1mDirection: W\u001b[0m\n",
      "*Coef*\n",
      "          X         Y\n",
      "X  1.000000 -0.279384\n",
      "Y -0.279384  1.000000 \n",
      "\n",
      "*P value*\n",
      "          X         Y\n",
      "X  1.000000  0.089371\n",
      "Y  0.089371  1.000000 \n",
      "\n",
      "\n"
     ]
    }
   ],
   "source": [
    "Y = pollution_data.set_index('local_time')['UFP'].sort_index()\n",
    "Y = Y.groupby(Y.index.date).mean()\n",
    "\n",
    "windspeed_data_nocalm = windspeed_data[~(windspeed_data['dir_cardinal'] == 'calm')]\n",
    "\n",
    "for name, group in windspeed_data_nocalm.groupby('dir_cardinal'):\n",
    "    X = group.set_index('properties.observed')['properties.value'].sort_index()\n",
    "    X = X.groupby(X.index.date).mean()\n",
    "    corr_df = pd.DataFrame({'X': X, 'Y': Y}).dropna()\n",
    "\n",
    "    print(f\"\\033[1mDirection: {name}\\033[0m\")\n",
    "    print('*Coef*')\n",
    "    print(corr_df.corr(), '\\n')\n",
    "    print('*P value*')\n",
    "    print(corr_df.corr(method=pearsonr_pval), '\\n\\n')"
   ]
  },
  {
   "cell_type": "markdown",
   "metadata": {},
   "source": [
    "Only West has a p-value under 0.05 (0.039302), and thus is the only direction for which we can say with a high degree of certainty that our correlation (-0.44) is actually true."
   ]
  },
  {
   "cell_type": "code",
   "execution_count": 44,
   "metadata": {},
   "outputs": [],
   "source": [
    "cardinal_series = windspeed_data.set_index('properties.observed')['dir_cardinal']\n",
    "cardinal_series = cardinal_series.sort_index()\n",
    "cardinal_series.to_csv('cardinal.csv')"
   ]
  },
  {
   "cell_type": "code",
   "execution_count": 36,
   "metadata": {},
   "outputs": [
    {
     "data": {
      "text/plain": [
       "Timestamp('2018-11-28 10:00:00+0100', tz='Europe/Copenhagen')"
      ]
     },
     "execution_count": 36,
     "metadata": {},
     "output_type": "execute_result"
    }
   ],
   "source": [
    "ufp_series = pollution_data.set_index('local_time')['UFP']\n",
    "ufp_series = ufp_series.sort_index()\n",
    "ufp_series.index[50]"
   ]
  },
  {
   "cell_type": "code",
   "execution_count": 43,
   "metadata": {},
   "outputs": [
    {
     "data": {
      "text/html": [
       "<div>\n",
       "<style scoped>\n",
       "    .dataframe tbody tr th:only-of-type {\n",
       "        vertical-align: middle;\n",
       "    }\n",
       "\n",
       "    .dataframe tbody tr th {\n",
       "        vertical-align: top;\n",
       "    }\n",
       "\n",
       "    .dataframe thead th {\n",
       "        text-align: right;\n",
       "    }\n",
       "</style>\n",
       "<table border=\"1\" class=\"dataframe\">\n",
       "  <thead>\n",
       "    <tr style=\"text-align: right;\">\n",
       "      <th></th>\n",
       "      <th>dir_cardinal</th>\n",
       "      <th>UFP</th>\n",
       "    </tr>\n",
       "    <tr>\n",
       "      <th>properties.observed</th>\n",
       "      <th></th>\n",
       "      <th></th>\n",
       "    </tr>\n",
       "  </thead>\n",
       "  <tbody>\n",
       "    <tr>\n",
       "      <th>2018-11-05 01:00:00+01:00</th>\n",
       "      <td>E</td>\n",
       "      <td>37700.0</td>\n",
       "    </tr>\n",
       "    <tr>\n",
       "      <th>2018-11-05 02:00:00+01:00</th>\n",
       "      <td>E</td>\n",
       "      <td>37700.0</td>\n",
       "    </tr>\n",
       "    <tr>\n",
       "      <th>2018-11-05 03:00:00+01:00</th>\n",
       "      <td>E</td>\n",
       "      <td>37700.0</td>\n",
       "    </tr>\n",
       "    <tr>\n",
       "      <th>2018-11-05 04:00:00+01:00</th>\n",
       "      <td>E</td>\n",
       "      <td>37700.0</td>\n",
       "    </tr>\n",
       "    <tr>\n",
       "      <th>2018-11-05 05:00:00+01:00</th>\n",
       "      <td>E</td>\n",
       "      <td>37700.0</td>\n",
       "    </tr>\n",
       "    <tr>\n",
       "      <th>...</th>\n",
       "      <td>...</td>\n",
       "      <td>...</td>\n",
       "    </tr>\n",
       "    <tr>\n",
       "      <th>2020-03-11 21:00:00+01:00</th>\n",
       "      <td>S</td>\n",
       "      <td>NaN</td>\n",
       "    </tr>\n",
       "    <tr>\n",
       "      <th>2020-03-11 22:00:00+01:00</th>\n",
       "      <td>S</td>\n",
       "      <td>NaN</td>\n",
       "    </tr>\n",
       "    <tr>\n",
       "      <th>2020-03-11 23:00:00+01:00</th>\n",
       "      <td>S</td>\n",
       "      <td>NaN</td>\n",
       "    </tr>\n",
       "    <tr>\n",
       "      <th>2020-03-12 00:00:00+01:00</th>\n",
       "      <td>S</td>\n",
       "      <td>NaN</td>\n",
       "    </tr>\n",
       "    <tr>\n",
       "      <th>2020-03-12 01:00:00+01:00</th>\n",
       "      <td>S</td>\n",
       "      <td>NaN</td>\n",
       "    </tr>\n",
       "  </tbody>\n",
       "</table>\n",
       "<p>7037 rows × 2 columns</p>\n",
       "</div>"
      ],
      "text/plain": [
       "                          dir_cardinal      UFP\n",
       "properties.observed                            \n",
       "2018-11-05 01:00:00+01:00            E  37700.0\n",
       "2018-11-05 02:00:00+01:00            E  37700.0\n",
       "2018-11-05 03:00:00+01:00            E  37700.0\n",
       "2018-11-05 04:00:00+01:00            E  37700.0\n",
       "2018-11-05 05:00:00+01:00            E  37700.0\n",
       "...                                ...      ...\n",
       "2020-03-11 21:00:00+01:00            S      NaN\n",
       "2020-03-11 22:00:00+01:00            S      NaN\n",
       "2020-03-11 23:00:00+01:00            S      NaN\n",
       "2020-03-12 00:00:00+01:00            S      NaN\n",
       "2020-03-12 01:00:00+01:00            S      NaN\n",
       "\n",
       "[7037 rows x 2 columns]"
      ]
     },
     "execution_count": 43,
     "metadata": {},
     "output_type": "execute_result"
    }
   ],
   "source": [
    "cardinal_ufp_df = pd.merge_asof(cardinal_series, ufp_series, left_index=True, right_index=True, direction='nearest')\n",
    "cardinal_ufp_df"
   ]
  },
  {
   "cell_type": "code",
   "execution_count": 31,
   "metadata": {},
   "outputs": [],
   "source": [
    "cardinal_dct = cardinal_series.to_dict()"
   ]
  },
  {
   "cell_type": "code",
   "execution_count": 41,
   "metadata": {},
   "outputs": [
    {
     "name": "stdout",
     "output_type": "stream",
     "text": [
      "2018-12-17 13:00:00+01:00\n",
      "2018-12-20 09:00:00+01:00\n"
     ]
    },
    {
     "data": {
      "text/plain": [
       "'E'"
      ]
     },
     "execution_count": 41,
     "metadata": {},
     "output_type": "execute_result"
    }
   ],
   "source": [
    "def find_closest_observed_wind_observation(ufp_date):\n",
    "    wind_date = min(cardinal_dct.keys(), key=lambda x: abs(x - ufp_date))\n",
    "    print(ufp_date)\n",
    "    print(wind_date)\n",
    "    if abs(ufp_date-wind_date) \n",
    "    return cardinal_dct[wind_date]\n",
    "\n",
    "\n",
    "find_closest_observed_wind_observation(ufp_series.index[550])"
   ]
  },
  {
   "cell_type": "code",
   "execution_count": 58,
   "metadata": {},
   "outputs": [
    {
     "data": {
      "text/plain": [
       "Timedelta('0 days 00:00:00')"
      ]
     },
     "execution_count": 58,
     "metadata": {},
     "output_type": "execute_result"
    }
   ],
   "source": [
    "(ufp_series.index[100] - ufp_series.index[0])"
   ]
  },
  {
   "cell_type": "code",
   "execution_count": 62,
   "metadata": {},
   "outputs": [
    {
     "data": {
      "text/plain": [
       "local_time\n",
       "2018-11-28 10:00:00+01:00    37700.0\n",
       "2018-11-28 10:00:00+01:00    30800.0\n",
       "2018-11-28 10:00:00+01:00    25500.0\n",
       "2018-11-28 10:00:00+01:00    60000.0\n",
       "2018-11-28 10:00:00+01:00    11300.0\n",
       "                              ...   \n",
       "2020-02-27 21:00:00+01:00        NaN\n",
       "2020-02-27 21:00:00+01:00        NaN\n",
       "2020-03-10 09:00:00+01:00        NaN\n",
       "2020-03-10 20:00:00+01:00        NaN\n",
       "2020-03-11 18:17:31+01:00        NaN\n",
       "Name: UFP, Length: 21932, dtype: float64"
      ]
     },
     "execution_count": 62,
     "metadata": {},
     "output_type": "execute_result"
    }
   ],
   "source": [
    "ufp_series"
   ]
  },
  {
   "cell_type": "code",
   "execution_count": 61,
   "metadata": {},
   "outputs": [
    {
     "data": {
      "text/plain": [
       "local_time\n",
       "2018-11-28 10:00:00+01:00    37700.0\n",
       "2018-11-28 10:00:00+01:00    30800.0\n",
       "2018-11-28 10:00:00+01:00    25500.0\n",
       "2018-11-28 10:00:00+01:00    60000.0\n",
       "2018-11-28 10:00:00+01:00    11300.0\n",
       "                              ...   \n",
       "2020-02-27 21:00:00+01:00        NaN\n",
       "2020-02-27 21:00:00+01:00        NaN\n",
       "2020-03-10 09:00:00+01:00        NaN\n",
       "2020-03-10 20:00:00+01:00        NaN\n",
       "2020-03-11 18:17:31+01:00        NaN\n",
       "Name: UFP, Length: 21932, dtype: float64"
      ]
     },
     "execution_count": 61,
     "metadata": {},
     "output_type": "execute_result"
    }
   ],
   "source": [
    "ufp_series"
   ]
  },
  {
   "cell_type": "code",
   "execution_count": 15,
   "metadata": {},
   "outputs": [],
   "source": [
    "import numpy as np\n",
    "\n",
    "cardinal_ufp_df = cardinal_ufp_df.groupby(pd.Grouper(freq='D')).agg({'dir_cardinal': 'max', 'UFP': np.mean})"
   ]
  },
  {
   "cell_type": "code",
   "execution_count": 16,
   "metadata": {},
   "outputs": [
    {
     "data": {
      "text/html": [
       "<div>\n",
       "<style scoped>\n",
       "    .dataframe tbody tr th:only-of-type {\n",
       "        vertical-align: middle;\n",
       "    }\n",
       "\n",
       "    .dataframe tbody tr th {\n",
       "        vertical-align: top;\n",
       "    }\n",
       "\n",
       "    .dataframe thead th {\n",
       "        text-align: right;\n",
       "    }\n",
       "</style>\n",
       "<table border=\"1\" class=\"dataframe\">\n",
       "  <thead>\n",
       "    <tr style=\"text-align: right;\">\n",
       "      <th></th>\n",
       "      <th>dir_cardinal</th>\n",
       "      <th>UFP</th>\n",
       "    </tr>\n",
       "    <tr>\n",
       "      <th>properties.observed</th>\n",
       "      <th></th>\n",
       "      <th></th>\n",
       "    </tr>\n",
       "  </thead>\n",
       "  <tbody>\n",
       "    <tr>\n",
       "      <th>2018-11-05 00:00:00+01:00</th>\n",
       "      <td>E</td>\n",
       "      <td>37700.0</td>\n",
       "    </tr>\n",
       "    <tr>\n",
       "      <th>2018-11-06 00:00:00+01:00</th>\n",
       "      <td>S</td>\n",
       "      <td>37700.0</td>\n",
       "    </tr>\n",
       "    <tr>\n",
       "      <th>2018-11-07 00:00:00+01:00</th>\n",
       "      <td>S</td>\n",
       "      <td>37700.0</td>\n",
       "    </tr>\n",
       "    <tr>\n",
       "      <th>2018-11-08 00:00:00+01:00</th>\n",
       "      <td>W</td>\n",
       "      <td>37700.0</td>\n",
       "    </tr>\n",
       "    <tr>\n",
       "      <th>2018-11-09 00:00:00+01:00</th>\n",
       "      <td>W</td>\n",
       "      <td>37700.0</td>\n",
       "    </tr>\n",
       "    <tr>\n",
       "      <th>...</th>\n",
       "      <td>...</td>\n",
       "      <td>...</td>\n",
       "    </tr>\n",
       "    <tr>\n",
       "      <th>2020-03-08 00:00:00+01:00</th>\n",
       "      <td>S</td>\n",
       "      <td>NaN</td>\n",
       "    </tr>\n",
       "    <tr>\n",
       "      <th>2020-03-09 00:00:00+01:00</th>\n",
       "      <td>W</td>\n",
       "      <td>NaN</td>\n",
       "    </tr>\n",
       "    <tr>\n",
       "      <th>2020-03-10 00:00:00+01:00</th>\n",
       "      <td>NaN</td>\n",
       "      <td>NaN</td>\n",
       "    </tr>\n",
       "    <tr>\n",
       "      <th>2020-03-11 00:00:00+01:00</th>\n",
       "      <td>W</td>\n",
       "      <td>NaN</td>\n",
       "    </tr>\n",
       "    <tr>\n",
       "      <th>2020-03-12 00:00:00+01:00</th>\n",
       "      <td>S</td>\n",
       "      <td>NaN</td>\n",
       "    </tr>\n",
       "  </tbody>\n",
       "</table>\n",
       "<p>494 rows × 2 columns</p>\n",
       "</div>"
      ],
      "text/plain": [
       "                          dir_cardinal      UFP\n",
       "properties.observed                            \n",
       "2018-11-05 00:00:00+01:00            E  37700.0\n",
       "2018-11-06 00:00:00+01:00            S  37700.0\n",
       "2018-11-07 00:00:00+01:00            S  37700.0\n",
       "2018-11-08 00:00:00+01:00            W  37700.0\n",
       "2018-11-09 00:00:00+01:00            W  37700.0\n",
       "...                                ...      ...\n",
       "2020-03-08 00:00:00+01:00            S      NaN\n",
       "2020-03-09 00:00:00+01:00            W      NaN\n",
       "2020-03-10 00:00:00+01:00          NaN      NaN\n",
       "2020-03-11 00:00:00+01:00            W      NaN\n",
       "2020-03-12 00:00:00+01:00            S      NaN\n",
       "\n",
       "[494 rows x 2 columns]"
      ]
     },
     "execution_count": 16,
     "metadata": {},
     "output_type": "execute_result"
    }
   ],
   "source": [
    "cardinal_ufp_df"
   ]
  },
  {
   "cell_type": "code",
   "execution_count": 17,
   "metadata": {},
   "outputs": [
    {
     "data": {
      "text/plain": [
       "dict_keys(['type', 'features'])"
      ]
     },
     "execution_count": 17,
     "metadata": {},
     "output_type": "execute_result"
    }
   ],
   "source": [
    "import json\n",
    "\n",
    "with open('CPH_MixedModels_25May2021b.geojson', 'r') as f:\n",
    "    cph = json.load(f)\n",
    "    \n",
    "cph.keys()"
   ]
  },
  {
   "cell_type": "code",
   "execution_count": 18,
   "metadata": {},
   "outputs": [],
   "source": [
    "fid_coords = {i['properties']['ROAD_FID']: i['geometry']['coordinates'] for i in cph['features']}"
   ]
  },
  {
   "cell_type": "code",
   "execution_count": 19,
   "metadata": {},
   "outputs": [],
   "source": [
    "pollution_data['ROAD_FID_coords'] = pollution_data['ROAD_FID'].map(fid_coords)"
   ]
  },
  {
   "cell_type": "code",
   "execution_count": 20,
   "metadata": {},
   "outputs": [],
   "source": [
    "pollution_data = pollution_data.sort_values(by='local_time')\n",
    "pollution_data = pd.merge_asof(pollution_data, cardinal_series, left_on='local_time', right_index=True, direction='nearest')"
   ]
  },
  {
   "cell_type": "code",
   "execution_count": 21,
   "metadata": {},
   "outputs": [],
   "source": [
    "dfs = list()\n",
    "for name, group in pollution_data.groupby('dir_cardinal'):\n",
    "    subdf = group.groupby('ROAD_FID').agg({'ROAD_FID_coords': 'first', 'UFP': np.mean})\n",
    "    subdf['ROAD_FID_coords'] = subdf['ROAD_FID_coords'].apply(lambda x: x[0])\n",
    "    subdf['lng'], subdf['lat'] = zip(*subdf['ROAD_FID_coords'])\n",
    "    subdf.name = name\n",
    "    subdf.to_csv(f'cardinal_splits/{name}.csv')\n",
    "    dfs.append(subdf)"
   ]
  },
  {
   "cell_type": "code",
   "execution_count": 22,
   "metadata": {},
   "outputs": [
    {
     "data": {
      "text/plain": [
       "W       2668\n",
       "S       2264\n",
       "E       1621\n",
       "N        482\n",
       "calm       2\n",
       "Name: dir_cardinal, dtype: int64"
      ]
     },
     "execution_count": 22,
     "metadata": {},
     "output_type": "execute_result"
    }
   ],
   "source": [
    "cardinal_series.value_counts()"
   ]
  },
  {
   "cell_type": "code",
   "execution_count": null,
   "metadata": {},
   "outputs": [],
   "source": []
  },
  {
   "cell_type": "code",
   "execution_count": 23,
   "metadata": {},
   "outputs": [
    {
     "data": {
      "text/plain": [
       "30396    153\n",
       "29589    152\n",
       "27402    152\n",
       "2103     152\n",
       "22431    152\n",
       "        ... \n",
       "2512       1\n",
       "8053       1\n",
       "9922       1\n",
       "18936      1\n",
       "17946      1\n",
       "Name: ROAD_FID, Length: 1563, dtype: int64"
      ]
     },
     "execution_count": 23,
     "metadata": {},
     "output_type": "execute_result"
    }
   ],
   "source": [
    "pollution_data['ROAD_FID'].value_counts()"
   ]
  },
  {
   "cell_type": "code",
   "execution_count": 24,
   "metadata": {},
   "outputs": [
    {
     "data": {
      "text/html": [
       "<div>\n",
       "<style scoped>\n",
       "    .dataframe tbody tr th:only-of-type {\n",
       "        vertical-align: middle;\n",
       "    }\n",
       "\n",
       "    .dataframe tbody tr th {\n",
       "        vertical-align: top;\n",
       "    }\n",
       "\n",
       "    .dataframe thead th {\n",
       "        text-align: right;\n",
       "    }\n",
       "</style>\n",
       "<table border=\"1\" class=\"dataframe\">\n",
       "  <thead>\n",
       "    <tr style=\"text-align: right;\">\n",
       "      <th></th>\n",
       "      <th>ROAD_FID</th>\n",
       "      <th>local_time</th>\n",
       "      <th>Data_NO2</th>\n",
       "      <th>Mixed_NO2</th>\n",
       "      <th>UFP</th>\n",
       "      <th>Mixed_UFP</th>\n",
       "      <th>Data_BC</th>\n",
       "      <th>Mixed_BC</th>\n",
       "      <th>ROAD_FID_coords</th>\n",
       "      <th>dir_cardinal</th>\n",
       "    </tr>\n",
       "  </thead>\n",
       "  <tbody>\n",
       "    <tr>\n",
       "      <th>10862</th>\n",
       "      <td>23123</td>\n",
       "      <td>2018-11-28 10:00:00+01:00</td>\n",
       "      <td>NaN</td>\n",
       "      <td>11.0</td>\n",
       "      <td>37700.0</td>\n",
       "      <td>9360.0</td>\n",
       "      <td>0.4</td>\n",
       "      <td>1.0</td>\n",
       "      <td>[[12.566310109778321, 55.64647481495054], [12....</td>\n",
       "      <td>E</td>\n",
       "    </tr>\n",
       "    <tr>\n",
       "      <th>18424</th>\n",
       "      <td>30014</td>\n",
       "      <td>2018-11-28 10:00:00+01:00</td>\n",
       "      <td>NaN</td>\n",
       "      <td>13.0</td>\n",
       "      <td>30800.0</td>\n",
       "      <td>10700.0</td>\n",
       "      <td>0.5</td>\n",
       "      <td>0.9</td>\n",
       "      <td>[[12.567683832546429, 55.65264697453324], [12....</td>\n",
       "      <td>E</td>\n",
       "    </tr>\n",
       "    <tr>\n",
       "      <th>130</th>\n",
       "      <td>181</td>\n",
       "      <td>2018-11-28 10:00:00+01:00</td>\n",
       "      <td>NaN</td>\n",
       "      <td>13.0</td>\n",
       "      <td>25500.0</td>\n",
       "      <td>12400.0</td>\n",
       "      <td>0.6</td>\n",
       "      <td>1.1</td>\n",
       "      <td>[[12.57457732437652, 55.64208017844679], [12.5...</td>\n",
       "      <td>E</td>\n",
       "    </tr>\n",
       "    <tr>\n",
       "      <th>4147</th>\n",
       "      <td>9742</td>\n",
       "      <td>2018-11-28 10:00:00+01:00</td>\n",
       "      <td>NaN</td>\n",
       "      <td>26.0</td>\n",
       "      <td>60000.0</td>\n",
       "      <td>26900.0</td>\n",
       "      <td>0.6</td>\n",
       "      <td>1.7</td>\n",
       "      <td>[[12.57534698492308, 55.64099837865791], [12.5...</td>\n",
       "      <td>E</td>\n",
       "    </tr>\n",
       "    <tr>\n",
       "      <th>17425</th>\n",
       "      <td>29272</td>\n",
       "      <td>2018-11-28 10:00:00+01:00</td>\n",
       "      <td>NaN</td>\n",
       "      <td>14.0</td>\n",
       "      <td>11300.0</td>\n",
       "      <td>19900.0</td>\n",
       "      <td>0.7</td>\n",
       "      <td>0.9</td>\n",
       "      <td>[[12.571412153741747, 55.62961845646826], [12....</td>\n",
       "      <td>E</td>\n",
       "    </tr>\n",
       "    <tr>\n",
       "      <th>...</th>\n",
       "      <td>...</td>\n",
       "      <td>...</td>\n",
       "      <td>...</td>\n",
       "      <td>...</td>\n",
       "      <td>...</td>\n",
       "      <td>...</td>\n",
       "      <td>...</td>\n",
       "      <td>...</td>\n",
       "      <td>...</td>\n",
       "      <td>...</td>\n",
       "    </tr>\n",
       "    <tr>\n",
       "      <th>1990</th>\n",
       "      <td>4041</td>\n",
       "      <td>2020-02-27 21:00:00+01:00</td>\n",
       "      <td>12.0</td>\n",
       "      <td>30.0</td>\n",
       "      <td>NaN</td>\n",
       "      <td>17100.0</td>\n",
       "      <td>NaN</td>\n",
       "      <td>1.8</td>\n",
       "      <td>[[12.587405381341311, 55.66702524530388], [12....</td>\n",
       "      <td>W</td>\n",
       "    </tr>\n",
       "    <tr>\n",
       "      <th>13485</th>\n",
       "      <td>26330</td>\n",
       "      <td>2020-02-27 21:00:00+01:00</td>\n",
       "      <td>12.0</td>\n",
       "      <td>28.0</td>\n",
       "      <td>NaN</td>\n",
       "      <td>17600.0</td>\n",
       "      <td>NaN</td>\n",
       "      <td>1.7</td>\n",
       "      <td>[[12.58755973917106, 55.66733357294719], [12.5...</td>\n",
       "      <td>W</td>\n",
       "    </tr>\n",
       "    <tr>\n",
       "      <th>1323</th>\n",
       "      <td>2103</td>\n",
       "      <td>2020-03-10 09:00:00+01:00</td>\n",
       "      <td>7.0</td>\n",
       "      <td>38.0</td>\n",
       "      <td>NaN</td>\n",
       "      <td>23400.0</td>\n",
       "      <td>NaN</td>\n",
       "      <td>2.3</td>\n",
       "      <td>[[12.57983701400161, 55.6697374667821], [12.57...</td>\n",
       "      <td>S</td>\n",
       "    </tr>\n",
       "    <tr>\n",
       "      <th>8045</th>\n",
       "      <td>18584</td>\n",
       "      <td>2020-03-10 20:00:00+01:00</td>\n",
       "      <td>14.0</td>\n",
       "      <td>21.0</td>\n",
       "      <td>NaN</td>\n",
       "      <td>12300.0</td>\n",
       "      <td>NaN</td>\n",
       "      <td>1.2</td>\n",
       "      <td>[[12.585500814071768, 55.66592982422509], [12....</td>\n",
       "      <td>W</td>\n",
       "    </tr>\n",
       "    <tr>\n",
       "      <th>2585</th>\n",
       "      <td>5147</td>\n",
       "      <td>2020-03-11 18:17:31+01:00</td>\n",
       "      <td>20.0</td>\n",
       "      <td>18.0</td>\n",
       "      <td>NaN</td>\n",
       "      <td>11700.0</td>\n",
       "      <td>NaN</td>\n",
       "      <td>1.0</td>\n",
       "      <td>[[12.584894521823935, 55.66617074541023], [12....</td>\n",
       "      <td>W</td>\n",
       "    </tr>\n",
       "  </tbody>\n",
       "</table>\n",
       "<p>21932 rows × 10 columns</p>\n",
       "</div>"
      ],
      "text/plain": [
       "       ROAD_FID                local_time  Data_NO2  Mixed_NO2      UFP  \\\n",
       "10862     23123 2018-11-28 10:00:00+01:00       NaN       11.0  37700.0   \n",
       "18424     30014 2018-11-28 10:00:00+01:00       NaN       13.0  30800.0   \n",
       "130         181 2018-11-28 10:00:00+01:00       NaN       13.0  25500.0   \n",
       "4147       9742 2018-11-28 10:00:00+01:00       NaN       26.0  60000.0   \n",
       "17425     29272 2018-11-28 10:00:00+01:00       NaN       14.0  11300.0   \n",
       "...         ...                       ...       ...        ...      ...   \n",
       "1990       4041 2020-02-27 21:00:00+01:00      12.0       30.0      NaN   \n",
       "13485     26330 2020-02-27 21:00:00+01:00      12.0       28.0      NaN   \n",
       "1323       2103 2020-03-10 09:00:00+01:00       7.0       38.0      NaN   \n",
       "8045      18584 2020-03-10 20:00:00+01:00      14.0       21.0      NaN   \n",
       "2585       5147 2020-03-11 18:17:31+01:00      20.0       18.0      NaN   \n",
       "\n",
       "       Mixed_UFP  Data_BC  Mixed_BC  \\\n",
       "10862     9360.0      0.4       1.0   \n",
       "18424    10700.0      0.5       0.9   \n",
       "130      12400.0      0.6       1.1   \n",
       "4147     26900.0      0.6       1.7   \n",
       "17425    19900.0      0.7       0.9   \n",
       "...          ...      ...       ...   \n",
       "1990     17100.0      NaN       1.8   \n",
       "13485    17600.0      NaN       1.7   \n",
       "1323     23400.0      NaN       2.3   \n",
       "8045     12300.0      NaN       1.2   \n",
       "2585     11700.0      NaN       1.0   \n",
       "\n",
       "                                         ROAD_FID_coords dir_cardinal  \n",
       "10862  [[12.566310109778321, 55.64647481495054], [12....            E  \n",
       "18424  [[12.567683832546429, 55.65264697453324], [12....            E  \n",
       "130    [[12.57457732437652, 55.64208017844679], [12.5...            E  \n",
       "4147   [[12.57534698492308, 55.64099837865791], [12.5...            E  \n",
       "17425  [[12.571412153741747, 55.62961845646826], [12....            E  \n",
       "...                                                  ...          ...  \n",
       "1990   [[12.587405381341311, 55.66702524530388], [12....            W  \n",
       "13485  [[12.58755973917106, 55.66733357294719], [12.5...            W  \n",
       "1323   [[12.57983701400161, 55.6697374667821], [12.57...            S  \n",
       "8045   [[12.585500814071768, 55.66592982422509], [12....            W  \n",
       "2585   [[12.584894521823935, 55.66617074541023], [12....            W  \n",
       "\n",
       "[21932 rows x 10 columns]"
      ]
     },
     "execution_count": 24,
     "metadata": {},
     "output_type": "execute_result"
    }
   ],
   "source": [
    "pollution_data"
   ]
  },
  {
   "cell_type": "code",
   "execution_count": null,
   "metadata": {},
   "outputs": [],
   "source": []
  }
 ],
 "metadata": {
  "kernelspec": {
   "display_name": "Python 3",
   "language": "python",
   "name": "python3"
  },
  "language_info": {
   "codemirror_mode": {
    "name": "ipython",
    "version": 3
   },
   "file_extension": ".py",
   "mimetype": "text/x-python",
   "name": "python",
   "nbconvert_exporter": "python",
   "pygments_lexer": "ipython3",
   "version": "3.8.5"
  }
 },
 "nbformat": 4,
 "nbformat_minor": 4
}
